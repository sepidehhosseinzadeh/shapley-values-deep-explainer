{
 "cells": [
  {
   "cell_type": "code",
   "execution_count": 1,
   "metadata": {},
   "outputs": [],
   "source": [
    "#! pip install shap\n",
    "import sys\n",
    "sys.path.insert(0,'shap-0.35.0')"
   ]
  },
  {
   "cell_type": "code",
   "execution_count": 2,
   "metadata": {},
   "outputs": [],
   "source": [
    "import matplotlib.pyplot as plt\n",
    "import pandas as pd\n",
    "import numpy as np  \n",
    "import torch       \n",
    "import shap"
   ]
  },
  {
   "cell_type": "code",
   "execution_count": 3,
   "metadata": {},
   "outputs": [],
   "source": [
    "# data \n",
    "import argparse\n",
    "from data.cashflow import get_dataloader\n",
    "from pathlib import Path"
   ]
  },
  {
   "cell_type": "code",
   "execution_count": 4,
   "metadata": {},
   "outputs": [],
   "source": [
    "# model\n",
    "from model.utils_shap import load_model\n",
    "from model.cnn import CNN"
   ]
  },
  {
   "cell_type": "code",
   "execution_count": 5,
   "metadata": {},
   "outputs": [],
   "source": [
    "# params\n",
    "device = torch.device(\"cuda:0\" if torch.cuda.is_available() else \"cpu\")\n",
    "data_file = 'datasets/Personatics_mini.hdf5'\n",
    "batch_size = 14000 #512\n",
    "kernel_size = 4\n",
    "ch_max = 512\n",
    "nfc = 1024\n",
    "load_path = 'archive/old_checkpoint/personatics_binary_cnn_adam_k4_chmax512_nfc1024_wc010.0_drop0.0_bn0_l1_wr10.0_bs512_lr0.0001/models/iter-144000_ap-0.8387.pkl'\n",
    "metric_name = 'ap'\n",
    "threshold = 0.9\n"
   ]
  },
  {
   "cell_type": "code",
   "execution_count": 6,
   "metadata": {},
   "outputs": [],
   "source": [
    "dataloaders = get_dataloader(data_file, batch_size)"
   ]
  },
  {
   "cell_type": "code",
   "execution_count": 7,
   "metadata": {},
   "outputs": [],
   "source": [
    "# model \n",
    "model_dir = Path(load_path).parent"
   ]
  },
  {
   "cell_type": "code",
   "execution_count": 8,
   "metadata": {},
   "outputs": [
    {
     "name": "stdout",
     "output_type": "stream",
     "text": [
      "load model from iter: 144000 ap: 0.8387\n"
     ]
    }
   ],
   "source": [
    "model = CNN(dropout_p=0, kernel_size=kernel_size, ch_max=ch_max, nfc=nfc, num_class=1).to(device)\n",
    "model.eval()\n",
    "\n",
    "_, _ = load_model(model, load_path, device, metric_name)"
   ]
  },
  {
   "cell_type": "code",
   "execution_count": 9,
   "metadata": {},
   "outputs": [],
   "source": [
    "for batch in iter(dataloaders['train']):\n",
    "        x, y, b = batch\n",
    "        y[y == 2] = 1 # change label 2 to 1\n",
    "\n",
    "        x, y, b = x.to(device), y.to(device), b.to(device)\n",
    "        \n",
    "        #with torch.no_grad():\n",
    "        #    y_logits, b_preds = model(x)\n",
    "        \n"
   ]
  },
  {
   "cell_type": "code",
   "execution_count": 10,
   "metadata": {},
   "outputs": [
    {
     "data": {
      "text/plain": [
       "(torch.Size([12283, 11, 60]), torch.Size([12283]))"
      ]
     },
     "execution_count": 10,
     "metadata": {},
     "output_type": "execute_result"
    }
   ],
   "source": [
    "x.shape, y.shape"
   ]
  },
  {
   "cell_type": "code",
   "execution_count": 11,
   "metadata": {},
   "outputs": [],
   "source": [
    "# SHAP\n",
    "features, labels = x, y\n",
    "explainer = shap.DeepExplainer(model, features)  #IMPORTANT: change the code for y, b = model(x)"
   ]
  },
  {
   "cell_type": "code",
   "execution_count": 12,
   "metadata": {},
   "outputs": [],
   "source": [
    "shap_values = explainer.shap_values(features[:500], ranked_outputs=True)"
   ]
  },
  {
   "cell_type": "code",
   "execution_count": 13,
   "metadata": {},
   "outputs": [
    {
     "data": {
      "text/plain": [
       "((500, 11, 60), torch.Size([500, 11, 60]))"
      ]
     },
     "execution_count": 13,
     "metadata": {},
     "output_type": "execute_result"
    }
   ],
   "source": [
    "shap_values.shape, features[:500].shape"
   ]
  },
  {
   "cell_type": "markdown",
   "metadata": {},
   "source": [
    "## Summarize the effects of all the features"
   ]
  },
  {
   "cell_type": "code",
   "execution_count": null,
   "metadata": {},
   "outputs": [],
   "source": [
    "new_size = 60\n",
    "chanel = 1\n",
    "fig = shap.summary_plot(np.sum(shap_values, axis=chanel), \n",
    "                  features=np.sum(features[:500,:,:].cpu().numpy(), axis=chanel),\n",
    "                  feature_names=None, plot_type='violin')\n",
    "plt.savefig('shap_features_summary.png')"
   ]
  },
  {
   "cell_type": "code",
   "execution_count": null,
   "metadata": {},
   "outputs": [],
   "source": [
    "subject = 4\n",
    "shap_values[subject, :].shape, features[subject, :, :].cpu().numpy().shape"
   ]
  },
  {
   "cell_type": "code",
   "execution_count": null,
   "metadata": {},
   "outputs": [],
   "source": [
    "features[subject:subject+1,:,:].shape"
   ]
  },
  {
   "cell_type": "code",
   "execution_count": null,
   "metadata": {},
   "outputs": [],
   "source": [
    "subject = 20\n",
    "\n",
    "shap_values = explainer.shap_values(features[subject:subject+1,:,:], ranked_outputs=True)"
   ]
  },
  {
   "cell_type": "code",
   "execution_count": null,
   "metadata": {},
   "outputs": [],
   "source": [
    "\n",
    "\n",
    "new_size = 60\n",
    "chanel = 1\n",
    "\n",
    "# Init the JS visualization code\n",
    "shap.initjs()\n",
    "# Choosing which example to use\n",
    "\n",
    "# Plot the explanation of the predictions for one subject\n",
    "shap.force_plot(explainer.expected_value[0], \n",
    "                shap_values[subject, :, :].T, \n",
    "                features=features[subject, :, :].T.cpu().numpy(), \n",
    "                feature_names=None)"
   ]
  },
  {
   "cell_type": "markdown",
   "metadata": {},
   "source": [
    "## Get the ordered impotant features"
   ]
  },
  {
   "cell_type": "code",
   "execution_count": null,
   "metadata": {},
   "outputs": [],
   "source": [
    "shap_values[subject, :, :].shape"
   ]
  },
  {
   "cell_type": "markdown",
   "metadata": {},
   "source": [
    "### Important days for single account"
   ]
  },
  {
   "cell_type": "code",
   "execution_count": null,
   "metadata": {},
   "outputs": [],
   "source": [
    "vals= np.sum(np.abs(shap_values[subject, :, :]), axis=0)\n",
    "feature_importance = pd.DataFrame(list(zip(range(0, 60),vals)),columns=['col_name','feature_importance_vals'])\n",
    "feature_importance.sort_values(by=['feature_importance_vals'],ascending=False,inplace=True)\n",
    "feature_importance.head()"
   ]
  },
  {
   "cell_type": "code",
   "execution_count": null,
   "metadata": {},
   "outputs": [],
   "source": [
    "vals= np.abs(shap_values[subject, :, :]).mean(0)\n",
    "feature_importance = pd.DataFrame(list(zip(range(0, 60),vals)),columns=['col_name','feature_importance_vals'])\n",
    "feature_importance.sort_values(by=['feature_importance_vals'],ascending=False,inplace=True)\n",
    "feature_importance.head()"
   ]
  },
  {
   "cell_type": "code",
   "execution_count": null,
   "metadata": {},
   "outputs": [],
   "source": []
  }
 ],
 "metadata": {
  "kernelspec": {
   "display_name": "conda_pytorch_p36",
   "language": "python",
   "name": "conda_pytorch_p36"
  },
  "language_info": {
   "codemirror_mode": {
    "name": "ipython",
    "version": 3
   },
   "file_extension": ".py",
   "mimetype": "text/x-python",
   "name": "python",
   "nbconvert_exporter": "python",
   "pygments_lexer": "ipython3",
   "version": "3.6.5"
  }
 },
 "nbformat": 4,
 "nbformat_minor": 4
}
